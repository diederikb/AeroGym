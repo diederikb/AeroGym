{
 "cells": [
  {
   "cell_type": "code",
   "execution_count": null,
   "metadata": {},
   "outputs": [],
   "source": [
    "import gymnasium as gym\n",
    "import aero_gym\n",
    "from aero_gym.tools import evaluate, plotfile, animaterender, animaterender_contour\n",
    "import matplotlib\n",
    "import math\n",
    "import numpy as np\n",
    "from julia import Main\n",
    "import logging"
   ]
  },
  {
   "cell_type": "code",
   "execution_count": null,
   "metadata": {},
   "outputs": [],
   "source": [
    "logging.getLogger().setLevel(logging.INFO)"
   ]
  },
  {
   "cell_type": "code",
   "execution_count": null,
   "metadata": {},
   "outputs": [],
   "source": [
    "import sys\n",
    "sys.path.append('../aero_gym_SB3/')\n",
    "import trajectory_generators"
   ]
  },
  {
   "cell_type": "code",
   "execution_count": null,
   "metadata": {},
   "outputs": [],
   "source": [
    "matplotlib.rcParams[\"animation.html\"] = \"jshtml\"\n",
    "matplotlib.rcParams['image.interpolation'] = 'none'"
   ]
  },
  {
   "cell_type": "code",
   "execution_count": null,
   "metadata": {},
   "outputs": [],
   "source": [
    "t_max = 10\n",
    "delta_t = 0.1\n",
    "t = np.linspace(0, t_max, int(t_max/delta_t)+1)"
   ]
  },
  {
   "cell_type": "code",
   "execution_count": null,
   "metadata": {},
   "outputs": [],
   "source": [
    "mylevels = np.concatenate([[-100], np.linspace(-20, 20, num=30), [100]])"
   ]
  },
  {
   "cell_type": "markdown",
   "metadata": {},
   "source": [
    "## No h_ddot"
   ]
  },
  {
   "cell_type": "code",
   "execution_count": null,
   "metadata": {},
   "outputs": [],
   "source": [
    "env = gym.make(\n",
    "    'aero_gym/viscous_flow-v0',\n",
    "    render_mode=\"grid\",\n",
    "    t_max=t_max,\n",
    "    delta_t=delta_t,\n",
    "    Re=200,\n",
    "    grid_Re=4,\n",
    "    observe_vorticity_field=True,\n",
    "    observe_previous_lift=True,\n",
    "    observe_previous_pressure=True,\n",
    "    pressure_sensor_positions=[-0.3,-0.2,-0.1,0.0,0.1,0.2,0.3],\n",
    "    h_ddot_scale=1,\n",
    "    alpha_ddot_scale=1,\n",
    "    vorticity_scale=10.0\n",
    ")"
   ]
  },
  {
   "cell_type": "code",
   "execution_count": null,
   "metadata": {},
   "outputs": [],
   "source": [
    "obs, info = env.reset();\n",
    "info"
   ]
  },
  {
   "cell_type": "code",
   "execution_count": null,
   "metadata": {},
   "outputs": [],
   "source": [
    "obs, _, _, _, info = env.step([0]);\n",
    "info"
   ]
  },
  {
   "cell_type": "code",
   "execution_count": null,
   "metadata": {},
   "outputs": [],
   "source": [
    "obs, info, render_list = evaluate(env)\n",
    "print(f\"{info['episode']['t'][0]} seconds\")"
   ]
  },
  {
   "cell_type": "code",
   "execution_count": null,
   "metadata": {},
   "outputs": [],
   "source": [
    "%config InlineBackend.figure_format = 'svg'\n",
    "fig, axarr = plotfile(info)"
   ]
  },
  {
   "cell_type": "code",
   "execution_count": null,
   "metadata": {},
   "outputs": [],
   "source": [
    "xg, yg = Main.eval(\"xg, yg = coordinates(vorticity(integrator),g)\")\n",
    "pivot_idx = (env.unwrapped.a, 0)\n",
    "anim = animaterender_contour(info, xg, yg, render_list, pivot_idx, mylevels);\n",
    "anim"
   ]
  },
  {
   "cell_type": "markdown",
   "metadata": {},
   "source": [
    "## Impulse"
   ]
  },
  {
   "cell_type": "code",
   "execution_count": null,
   "metadata": {},
   "outputs": [],
   "source": [
    "env.reset(options={\"h_ddot_prescribed\":None,\"h_ddot_generator\":trajectory_generators.impulse(1.0)});"
   ]
  },
  {
   "cell_type": "code",
   "execution_count": null,
   "metadata": {},
   "outputs": [],
   "source": [
    "obs, info, render_list = evaluate(env)"
   ]
  },
  {
   "cell_type": "code",
   "execution_count": null,
   "metadata": {},
   "outputs": [],
   "source": [
    "env.unwrapped.h_ddot_list"
   ]
  },
  {
   "cell_type": "code",
   "execution_count": null,
   "metadata": {},
   "outputs": [],
   "source": [
    "%config InlineBackend.figure_format = 'svg'\n",
    "fig, axarr = plotfile(info)\n",
    "axarr[0,0].plot(info[\"solver_t_hist\"], info[\"solver_fy_hist\"])"
   ]
  },
  {
   "cell_type": "code",
   "execution_count": null,
   "metadata": {},
   "outputs": [],
   "source": [
    "xg, yg = Main.eval(\"xg, yg = coordinates(vorticity(integrator),g)\")\n",
    "pivot_idx = (env.unwrapped.a, 0)\n",
    "anim = animaterender_contour(info, xg, yg, render_list, pivot_idx, mylevels);\n",
    "anim"
   ]
  },
  {
   "cell_type": "markdown",
   "metadata": {},
   "source": [
    "## Step"
   ]
  },
  {
   "cell_type": "code",
   "execution_count": null,
   "metadata": {},
   "outputs": [],
   "source": [
    "env.reset(options={\"h_ddot_prescribed\":None,\"h_ddot_generator\":trajectory_generators.constant(0.1)});"
   ]
  },
  {
   "cell_type": "code",
   "execution_count": null,
   "metadata": {},
   "outputs": [],
   "source": [
    "obs, info, render_list = evaluate(env)"
   ]
  },
  {
   "cell_type": "code",
   "execution_count": null,
   "metadata": {},
   "outputs": [],
   "source": [
    "%config InlineBackend.figure_format = 'svg'\n",
    "fig, axarr = plotfile(info)\n",
    "axarr[0,0].plot(info[\"solver_t_hist\"], info[\"solver_fy_hist\"])"
   ]
  },
  {
   "cell_type": "code",
   "execution_count": null,
   "metadata": {},
   "outputs": [],
   "source": [
    "xg, yg = Main.eval(\"xg, yg = coordinates(vorticity(integrator),g)\")\n",
    "pivot_idx = (env.unwrapped.a, 0)\n",
    "anim = animaterender_contour(info, xg, yg, render_list, pivot_idx, mylevels);\n",
    "anim"
   ]
  },
  {
   "cell_type": "markdown",
   "metadata": {},
   "source": [
    "## Gaussian"
   ]
  },
  {
   "cell_type": "code",
   "execution_count": null,
   "metadata": {},
   "outputs": [],
   "source": [
    "def gaussian(x, a, b, c):\n",
    "    return a * math.exp(-(x - b) ** 2 / (2 * c ** 2))\n",
    "\n",
    "def dgaussian(x, a, b, c):\n",
    "    return a * -(x - b) / c ** 2 * math.exp(-(x - b) ** 2 / (2 * c ** 2))\n",
    "\n",
    "def ddgaussian(x, a, b, c):\n",
    "    return a * (x ** 2 + b ** 2 - 2 * b * x - c ** 2) / c ** 4 * math.exp(-(x - b) ** 2 / (2 * c ** 2))"
   ]
  },
  {
   "cell_type": "code",
   "execution_count": null,
   "metadata": {},
   "outputs": [],
   "source": [
    "a = -2/3\n",
    "b = 3.0\n",
    "c = 0.4\n",
    "h_ddot_dgaussian = [0.25 * dgaussian(ti, a, b, c) for ti in t]\n",
    "\n",
    "a = 1/6\n",
    "b = 8.0\n",
    "c = 0.4\n",
    "alpha_ddot_dgaussian = [ddgaussian(ti, a, b, c) for ti in t]"
   ]
  },
  {
   "cell_type": "code",
   "execution_count": null,
   "metadata": {},
   "outputs": [],
   "source": [
    "env.reset(options={\"h_ddot_prescribed\":h_ddot_dgaussian});"
   ]
  },
  {
   "cell_type": "code",
   "execution_count": null,
   "metadata": {},
   "outputs": [],
   "source": [
    "obs, info, render_list = evaluate(env, alpha_ddot_prescribed=alpha_ddot_dgaussian)"
   ]
  },
  {
   "cell_type": "code",
   "execution_count": null,
   "metadata": {},
   "outputs": [],
   "source": [
    "%config InlineBackend.figure_format = 'svg'\n",
    "fig, axarr = plotfile(info)\n",
    "axarr[0,0].plot(info[\"solver_t_hist\"], info[\"solver_fy_hist\"])"
   ]
  },
  {
   "cell_type": "code",
   "execution_count": null,
   "metadata": {},
   "outputs": [],
   "source": [
    "xg, yg = Main.eval(\"xg, yg = coordinates(vorticity(integrator),g)\")\n",
    "pivot_idx = (env.unwrapped.a, 0)\n",
    "matplotlib.rcParams['image.interpolation'] = 'none'\n",
    "anim = animaterender_contour(info, xg, yg, render_list, pivot_idx, mylevels, animate_every=2);\n",
    "anim"
   ]
  },
  {
   "cell_type": "markdown",
   "metadata": {},
   "source": [
    "## Random steps/ramps"
   ]
  },
  {
   "cell_type": "code",
   "execution_count": null,
   "metadata": {},
   "outputs": [],
   "source": [
    "env_random_steps_ramps = gym.make(\n",
    "    'aero_gym/viscous_flow-v0',\n",
    "    render_mode=\"grayscale_array\",\n",
    "    t_max=3,\n",
    "    delta_t=delta_t,\n",
    "    observe_vorticity_field=False,\n",
    "    observe_previous_lift=True,\n",
    "    observe_previous_pressure=True,\n",
    "    pressure_sensor_positions=[-0.3,-0.2,-0.1,0.0,0.1,0.2,0.3],\n",
    "    h_ddot_scale=1,\n",
    "    alpha_ddot_scale=0.1,\n",
    "    vorticity_scale=10.0,\n",
    "    lift_scale=1.0,\n",
    "    h_ddot_generator=trajectory_generators.random_d_steps_ramps(max_int_amplitude=1.0, max_d_amplitude=1.0)\n",
    ")"
   ]
  },
  {
   "cell_type": "code",
   "execution_count": null,
   "metadata": {},
   "outputs": [],
   "source": [
    "obs, info = env_random_steps_ramps.reset()"
   ]
  },
  {
   "cell_type": "code",
   "execution_count": null,
   "metadata": {},
   "outputs": [],
   "source": [
    "obs, info, render_list = evaluate(env_random_steps_ramps)"
   ]
  },
  {
   "cell_type": "code",
   "execution_count": null,
   "metadata": {},
   "outputs": [],
   "source": [
    "%config InlineBackend.figure_format = 'svg'\n",
    "fig, axarr = plotfile(info)\n",
    "axarr[0,0].plot(info[\"solver_t_hist\"], info[\"solver_fy_hist\"])"
   ]
  },
  {
   "cell_type": "code",
   "execution_count": null,
   "metadata": {},
   "outputs": [],
   "source": [
    "xg, yg = Main.eval(\"xg, yg = coordinates(vorticity(integrator),g)\")\n",
    "pivot_idx = (env.unwrapped.a, 0)\n",
    "anim = animaterender_contour(info, xg, yg, render_list, pivot_idx, mylevels, animate_every=2);\n",
    "anim"
   ]
  },
  {
   "cell_type": "markdown",
   "metadata": {},
   "source": [
    "## Point forcing"
   ]
  },
  {
   "cell_type": "code",
   "execution_count": null,
   "metadata": {},
   "outputs": [],
   "source": [
    "env_forcing = gym.make(\n",
    "    'aero_gym/viscous_flow-v0',\n",
    "    render_mode=\"grid\",\n",
    "    t_max=3.0,\n",
    "    delta_t=0.03,\n",
    "    observe_vorticity_field=True,\n",
    "    observe_previous_lift=True,\n",
    "    observe_previous_lift_error=True,\n",
    "    alpha_ddot_scale=15.0,\n",
    "    lift_scale=0.1,\n",
    "    lift_upper_limit=1.2,\n",
    "    lift_lower_limit=-1.2,\n",
    "    lift_termination=True,\n",
    "    vorticity_scale=10,\n",
    "    xlim=[-1.25,1.75],\n",
    "    ylim=[-0.5,0.5],\n",
    "    initialization_time=5.0,\n",
    "    sys_reinit_commands='../aero_gym_SB3/julia_sys_reinit_commands_files/julia_system_with_one_prescribed_force_pulse_close.jl'\n",
    ")"
   ]
  },
  {
   "cell_type": "code",
   "execution_count": null,
   "metadata": {},
   "outputs": [],
   "source": [
    "obs, info, render_list = evaluate(env_forcing)"
   ]
  },
  {
   "cell_type": "code",
   "execution_count": null,
   "metadata": {},
   "outputs": [],
   "source": [
    "%config InlineBackend.figure_format = 'svg'\n",
    "fig, axarr = plotfile(info)\n",
    "axarr[0,0].plot(info[\"solver_t_hist\"], info[\"solver_fy_hist\"])"
   ]
  },
  {
   "cell_type": "code",
   "execution_count": null,
   "metadata": {},
   "outputs": [],
   "source": [
    "xg, yg = Main.eval(\"xg, yg = coordinates(vorticity(integrator),g)\")\n",
    "pivot_idx = (env.unwrapped.a, 0)\n",
    "anim = animaterender_contour(info, xg, yg, render_list, pivot_idx, mylevels);\n",
    "anim"
   ]
  },
  {
   "cell_type": "markdown",
   "metadata": {},
   "source": [
    "## Reference lift"
   ]
  },
  {
   "cell_type": "code",
   "execution_count": null,
   "metadata": {},
   "outputs": [],
   "source": [
    "t_max_ref = 20\n",
    "delta_t = 0.1\n",
    "t_ref = np.linspace(0, t_max_ref, int(t_max_ref/delta_t)+1)"
   ]
  },
  {
   "cell_type": "code",
   "execution_count": null,
   "metadata": {},
   "outputs": [],
   "source": [
    "alpha_ddot_scale = 10.0\n",
    "alpha = 25 * np.pi / 180\n",
    "T = alpha / (alpha_ddot_scale * delta_t)\n",
    "alpha_ddot_for_constant_nonzero_alpha = np.zeros(len(t_ref))\n",
    "alpha_ddot_for_constant_nonzero_alpha[0] = 1\n",
    "alpha_ddot_for_constant_nonzero_alpha[int(T / delta_t)] = -1"
   ]
  },
  {
   "cell_type": "code",
   "execution_count": null,
   "metadata": {},
   "outputs": [],
   "source": [
    "env_ref = gym.make(\n",
    "    'aero_gym/viscous_flow-v0',\n",
    "    render_mode=\"grid\",\n",
    "    t_max=t_max_ref,\n",
    "    delta_t=delta_t,\n",
    "    observe_vorticity_field=True,\n",
    "    observe_previous_lift=True,\n",
    "    observe_previous_lift_error=True,\n",
    "    h_ddot_scale=0.1,\n",
    "    alpha_ddot_scale=alpha_ddot_scale,\n",
    "    reference_lift_generator=trajectory_generators.constant(0.5),\n",
    "    lift_scale=1,\n",
    "    lift_upper_limit=2.0,\n",
    "    lift_lower_limit=-2.0,\n",
    "    lift_termination=True,\n",
    "    vorticity_scale=10,\n",
    "    ylim=[-0.55,0.85]\n",
    ")"
   ]
  },
  {
   "cell_type": "code",
   "execution_count": null,
   "metadata": {},
   "outputs": [],
   "source": [
    "obs, info, render_list = evaluate(env_ref, alpha_ddot_prescribed = alpha_ddot_for_constant_nonzero_alpha)"
   ]
  },
  {
   "cell_type": "code",
   "execution_count": null,
   "metadata": {},
   "outputs": [],
   "source": [
    "%config InlineBackend.figure_format = 'svg'\n",
    "fig, axarr = plotfile(info)"
   ]
  },
  {
   "cell_type": "code",
   "execution_count": null,
   "metadata": {},
   "outputs": [],
   "source": [
    "xg, yg = Main.eval(\"xg, yg = coordinates(vorticity(integrator),g)\")\n",
    "pivot_idx = (env.unwrapped.a, 0)\n",
    "anim = animaterender_contour(info, xg, yg, render_list, pivot_idx, mylevels);\n",
    "anim"
   ]
  },
  {
   "cell_type": "markdown",
   "metadata": {},
   "source": [
    "## Vortex shedding"
   ]
  },
  {
   "cell_type": "code",
   "execution_count": null,
   "metadata": {},
   "outputs": [],
   "source": [
    "env_vks = gym.make(\n",
    "    'aero_gym/viscous_flow-v0',\n",
    "    render_mode=\"grid\",\n",
    "    t_max=10,\n",
    "    delta_t=delta_t,\n",
    "    observe_vorticity_field=True,\n",
    "    observe_previous_lift=True,\n",
    "    observe_previous_lift_error=True,\n",
    "    h_ddot_scale=0.1,\n",
    "    alpha_ddot_scale=10,\n",
    "    reference_lift_generator=trajectory_generators.constant(0.7),\n",
    "    lift_scale=1,\n",
    "    lift_upper_limit=1.0,\n",
    "    lift_lower_limit=-0.1,\n",
    "    lift_termination=True,\n",
    "    vorticity_scale=10,\n",
    "    ylim=[-0.55,0.85],\n",
    "    alpha_init=0.52356,\n",
    "    initialization_time=10\n",
    ")"
   ]
  },
  {
   "cell_type": "code",
   "execution_count": null,
   "metadata": {},
   "outputs": [],
   "source": [
    "obs, info, render_list = evaluate(env_vks)"
   ]
  },
  {
   "cell_type": "code",
   "execution_count": null,
   "metadata": {},
   "outputs": [],
   "source": [
    "%config InlineBackend.figure_format = 'svg'\n",
    "fig, axarr = plotfile(info)"
   ]
  },
  {
   "cell_type": "code",
   "execution_count": null,
   "metadata": {},
   "outputs": [],
   "source": [
    "xg, yg = Main.eval(\"xg, yg = coordinates(vorticity(integrator),g)\")\n",
    "pivot_idx = (env.unwrapped.a, 0)\n",
    "anim = animaterender_contour(info, xg, yg, render_list, pivot_idx, mylevels, alpha_init=0.52356);\n",
    "anim"
   ]
  },
  {
   "cell_type": "code",
   "execution_count": null,
   "metadata": {},
   "outputs": [],
   "source": []
  },
  {
   "cell_type": "code",
   "execution_count": null,
   "metadata": {},
   "outputs": [],
   "source": []
  },
  {
   "cell_type": "code",
   "execution_count": null,
   "metadata": {},
   "outputs": [],
   "source": []
  },
  {
   "cell_type": "code",
   "execution_count": null,
   "metadata": {},
   "outputs": [],
   "source": []
  }
 ],
 "metadata": {
  "kernelspec": {
   "display_name": "unsteady_aero_RL",
   "language": "python",
   "name": "unsteady_aero_rl"
  },
  "language_info": {
   "codemirror_mode": {
    "name": "ipython",
    "version": 3
   },
   "file_extension": ".py",
   "mimetype": "text/x-python",
   "name": "python",
   "nbconvert_exporter": "python",
   "pygments_lexer": "ipython3",
   "version": "3.9.6"
  }
 },
 "nbformat": 4,
 "nbformat_minor": 4
}
