{
 "cells": [
  {
   "cell_type": "code",
   "execution_count": null,
   "metadata": {},
   "outputs": [],
   "source": [
    "import gymnasium as gym\n",
    "import aero_gym\n",
    "from aero_gym.tools import evaluate, plotfile, animaterender, animaterender_contour\n",
    "import matplotlib\n",
    "import math\n",
    "import numpy as np\n",
    "from juliacall import Main\n",
    "import logging"
   ]
  },
  {
   "cell_type": "code",
   "execution_count": null,
   "metadata": {},
   "outputs": [],
   "source": [
    "logging.getLogger().setLevel(logging.INFO)"
   ]
  },
  {
   "cell_type": "code",
   "execution_count": null,
   "metadata": {},
   "outputs": [],
   "source": [
    "matplotlib.rcParams[\"animation.html\"] = \"jshtml\"\n",
    "matplotlib.rcParams['image.interpolation'] = 'none'"
   ]
  },
  {
   "cell_type": "code",
   "execution_count": null,
   "metadata": {},
   "outputs": [],
   "source": [
    "t_max = 10\n",
    "delta_t = 0.1\n",
    "t = np.linspace(0, t_max, int(t_max/delta_t)+1)"
   ]
  },
  {
   "cell_type": "code",
   "execution_count": null,
   "metadata": {},
   "outputs": [],
   "source": [
    "h_ddot_impulse = np.zeros(len(t))\n",
    "h_ddot_impulse[0] = 1.0\n",
    "h_ddot_ones = np.ones(len(t))\n",
    "h_ddot_binary_periodic = (np.sin(t) > 0).astype(int) - 0.01*(np.sin(t) < 0).astype(int)"
   ]
  },
  {
   "cell_type": "code",
   "execution_count": null,
   "metadata": {},
   "outputs": [],
   "source": [
    "mylevels = np.concatenate([[-100], np.linspace(-20, 20, num=30), [100]])"
   ]
  },
  {
   "cell_type": "markdown",
   "metadata": {},
   "source": [
    "## No h_ddot"
   ]
  },
  {
   "cell_type": "code",
   "execution_count": null,
   "metadata": {},
   "outputs": [],
   "source": [
    "env = gym.make(\n",
    "    'aero_gym/viscous_flow-v0',\n",
    "    render_mode=\"grid\",\n",
    "    t_max=t_max,\n",
    "    delta_t=delta_t,\n",
    "    Re=200,\n",
    "    grid_Re=4,\n",
    "    observe_vorticity_field=True,\n",
    "    observe_previous_lift=True,\n",
    "    observe_previous_pressure=True,\n",
    "    pressure_sensor_positions=[-0.3,-0.2,-0.1,0.0,0.1,0.2,0.3],\n",
    "    h_ddot_scale=1,\n",
    "    alpha_ddot_scale=1,\n",
    "    vorticity_scale=10.0\n",
    ")"
   ]
  },
  {
   "cell_type": "markdown",
   "metadata": {},
   "source": [
    "Test if the `info` gets populated after one time step"
   ]
  },
  {
   "cell_type": "code",
   "execution_count": null,
   "metadata": {},
   "outputs": [],
   "source": [
    "obs, info = env.reset();\n",
    "info"
   ]
  },
  {
   "cell_type": "code",
   "execution_count": null,
   "metadata": {},
   "outputs": [],
   "source": [
    "obs, _, _, _, info = env.step([0]);\n",
    "info"
   ]
  },
  {
   "cell_type": "code",
   "execution_count": null,
   "metadata": {},
   "outputs": [],
   "source": [
    "obs, info, render_list = evaluate(env)\n",
    "print(f\"{info['episode']['t'][0]} seconds\")"
   ]
  },
  {
   "cell_type": "code",
   "execution_count": null,
   "metadata": {},
   "outputs": [],
   "source": [
    "%config InlineBackend.figure_format = 'svg'\n",
    "fig, axarr = plotfile(info)"
   ]
  },
  {
   "cell_type": "code",
   "execution_count": null,
   "metadata": {},
   "outputs": [],
   "source": [
    "xg, yg = Main.seval(\"xg, yg = coordinates(vorticity(integrator),g)\")\n",
    "pivot_idx = (env.unwrapped.a, 0)\n",
    "anim = animaterender_contour(info, xg, yg, render_list, pivot_idx, mylevels);\n",
    "anim"
   ]
  },
  {
   "cell_type": "markdown",
   "metadata": {},
   "source": [
    "## Impulse"
   ]
  },
  {
   "cell_type": "code",
   "execution_count": null,
   "metadata": {},
   "outputs": [],
   "source": [
    "env.reset(options={\"h_ddot_prescribed\":h_ddot_impulse});"
   ]
  },
  {
   "cell_type": "code",
   "execution_count": null,
   "metadata": {},
   "outputs": [],
   "source": [
    "obs, info, render_list = evaluate(env)"
   ]
  },
  {
   "cell_type": "code",
   "execution_count": null,
   "metadata": {},
   "outputs": [],
   "source": [
    "%config InlineBackend.figure_format = 'svg'\n",
    "fig, axarr = plotfile(info)\n",
    "axarr[0,0].plot(info[\"solver_t_hist\"], info[\"solver_fy_hist\"])"
   ]
  },
  {
   "cell_type": "code",
   "execution_count": null,
   "metadata": {},
   "outputs": [],
   "source": [
    "xg, yg = Main.seval(\"xg, yg = coordinates(vorticity(integrator),g)\")\n",
    "pivot_idx = (env.unwrapped.a, 0)\n",
    "anim = animaterender_contour(info, xg, yg, render_list, pivot_idx, mylevels);\n",
    "anim"
   ]
  },
  {
   "cell_type": "markdown",
   "metadata": {},
   "source": [
    "## Step"
   ]
  },
  {
   "cell_type": "code",
   "execution_count": null,
   "metadata": {},
   "outputs": [],
   "source": [
    "env.reset(options={\"h_ddot_prescribed\":0.1*h_ddot_ones});"
   ]
  },
  {
   "cell_type": "code",
   "execution_count": null,
   "metadata": {},
   "outputs": [],
   "source": [
    "obs, info, render_list = evaluate(env)"
   ]
  },
  {
   "cell_type": "code",
   "execution_count": null,
   "metadata": {},
   "outputs": [],
   "source": [
    "%config InlineBackend.figure_format = 'svg'\n",
    "fig, axarr = plotfile(info)\n",
    "axarr[0,0].plot(info[\"solver_t_hist\"], info[\"solver_fy_hist\"])"
   ]
  },
  {
   "cell_type": "code",
   "execution_count": null,
   "metadata": {},
   "outputs": [],
   "source": [
    "xg, yg = Main.seval(\"xg, yg = coordinates(vorticity(integrator),g)\")\n",
    "pivot_idx = (env.unwrapped.a, 0)\n",
    "anim = animaterender_contour(info, xg, yg, render_list, pivot_idx, mylevels);\n",
    "anim"
   ]
  },
  {
   "cell_type": "markdown",
   "metadata": {},
   "source": [
    "## Gaussian"
   ]
  },
  {
   "cell_type": "code",
   "execution_count": null,
   "metadata": {},
   "outputs": [],
   "source": [
    "def gaussian(x, a, b, c):\n",
    "    return a * math.exp(-(x - b) ** 2 / (2 * c ** 2))\n",
    "\n",
    "def dgaussian(x, a, b, c):\n",
    "    return a * -(x - b) / c ** 2 * math.exp(-(x - b) ** 2 / (2 * c ** 2))\n",
    "\n",
    "def ddgaussian(x, a, b, c):\n",
    "    return a * (x ** 2 + b ** 2 - 2 * b * x - c ** 2) / c ** 4 * math.exp(-(x - b) ** 2 / (2 * c ** 2))"
   ]
  },
  {
   "cell_type": "code",
   "execution_count": null,
   "metadata": {},
   "outputs": [],
   "source": [
    "a = -2/3\n",
    "b = 3.0\n",
    "c = 0.4\n",
    "h_ddot_dgaussian = [0.25 * dgaussian(ti, a, b, c) for ti in t]\n",
    "\n",
    "a = 1/6\n",
    "b = 8.0\n",
    "c = 0.4\n",
    "alpha_ddot_dgaussian = [ddgaussian(ti, a, b, c) for ti in t]"
   ]
  },
  {
   "cell_type": "code",
   "execution_count": null,
   "metadata": {},
   "outputs": [],
   "source": [
    "env.reset(options={\"h_ddot_prescribed\":h_ddot_dgaussian});"
   ]
  },
  {
   "cell_type": "code",
   "execution_count": null,
   "metadata": {},
   "outputs": [],
   "source": [
    "obs, info, render_list = evaluate(env, alpha_ddot_prescribed=alpha_ddot_dgaussian)"
   ]
  },
  {
   "cell_type": "code",
   "execution_count": null,
   "metadata": {},
   "outputs": [],
   "source": [
    "%config InlineBackend.figure_format = 'svg'\n",
    "fig, axarr = plotfile(info)\n",
    "axarr[0,0].plot(info[\"solver_t_hist\"], info[\"solver_fy_hist\"])"
   ]
  },
  {
   "cell_type": "code",
   "execution_count": null,
   "metadata": {},
   "outputs": [],
   "source": [
    "xg, yg = Main.seval(\"xg, yg = coordinates(vorticity(integrator),g)\")\n",
    "pivot_idx = (env.unwrapped.a, 0)\n",
    "matplotlib.rcParams['image.interpolation'] = 'none'\n",
    "anim = animaterender_contour(info, xg, yg, render_list, pivot_idx, mylevels, animate_every=2);\n",
    "anim"
   ]
  }
 ],
 "metadata": {
  "kernelspec": {
   "display_name": "unsteady_aero_RL",
   "language": "python",
   "name": "unsteady_aero_rl"
  },
  "language_info": {
   "codemirror_mode": {
    "name": "ipython",
    "version": 3
   },
   "file_extension": ".py",
   "mimetype": "text/x-python",
   "name": "python",
   "nbconvert_exporter": "python",
   "pygments_lexer": "ipython3",
   "version": "3.9.6"
  }
 },
 "nbformat": 4,
 "nbformat_minor": 4
}
