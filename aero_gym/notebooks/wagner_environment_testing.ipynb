{
 "cells": [
  {
   "cell_type": "code",
   "execution_count": null,
   "id": "ea16a1d9",
   "metadata": {},
   "outputs": [],
   "source": [
    "import gymnasium as gym\n",
    "import aero_gym\n",
    "from aero_gym.tools import evaluate, plotfile\n",
    "import numpy as np\n",
    "import math\n",
    "from gymnasium.utils.env_checker import check_env\n",
    "from pathlib import Path\n",
    "import matplotlib.pyplot as plt"
   ]
  },
  {
   "cell_type": "code",
   "execution_count": null,
   "id": "d3123aa0",
   "metadata": {},
   "outputs": [],
   "source": [
    "t_max = 20\n",
    "delta_t = 0.1\n",
    "t = np.linspace(0, t_max, int(t_max/delta_t)+1)"
   ]
  },
  {
   "cell_type": "code",
   "execution_count": null,
   "id": "629bbc1d",
   "metadata": {},
   "outputs": [],
   "source": [
    "h_ddot_impulse = np.zeros(len(t))\n",
    "h_ddot_impulse[0] = 1.0\n",
    "h_ddot_ones = np.ones(len(t))\n",
    "h_ddot_binary_periodic = (np.sin(t) > 0).astype(int) - 0.01*(np.sin(t) < 0).astype(int)"
   ]
  },
  {
   "cell_type": "markdown",
   "id": "ae247f98",
   "metadata": {},
   "source": [
    "## Impulse"
   ]
  },
  {
   "cell_type": "code",
   "execution_count": null,
   "id": "2054e292",
   "metadata": {},
   "outputs": [],
   "source": [
    "env = gym.make(\n",
    "    'aero_gym/wagner-v0', \n",
    "    t_max=10, \n",
    "    delta_t=delta_t, \n",
    "    h_ddot_prescribed=h_ddot_impulse,\n",
    "    observe_alpha_eff=True,\n",
    "    reward_type=3)"
   ]
  },
  {
   "cell_type": "code",
   "execution_count": null,
   "id": "0413cffc",
   "metadata": {},
   "outputs": [],
   "source": [
    "env.observation_space"
   ]
  },
  {
   "cell_type": "code",
   "execution_count": null,
   "id": "1a6c8247",
   "metadata": {},
   "outputs": [],
   "source": [
    "env.reset()\n",
    "env.step([0.0])"
   ]
  },
  {
   "cell_type": "code",
   "execution_count": null,
   "id": "20387c42",
   "metadata": {
    "scrolled": true
   },
   "outputs": [],
   "source": [
    "check_env(env.unwrapped)"
   ]
  },
  {
   "cell_type": "code",
   "execution_count": null,
   "id": "4d0f984f",
   "metadata": {},
   "outputs": [],
   "source": [
    "obs, info, render_list = evaluate(env)"
   ]
  },
  {
   "cell_type": "code",
   "execution_count": null,
   "id": "98205eb8",
   "metadata": {},
   "outputs": [],
   "source": [
    "%config InlineBackend.figure_format = 'svg'\n",
    "fig, axarr = plotfile(info)"
   ]
  },
  {
   "cell_type": "markdown",
   "id": "7e3b19b0",
   "metadata": {},
   "source": [
    "## Step"
   ]
  },
  {
   "cell_type": "code",
   "execution_count": null,
   "id": "80f886e9",
   "metadata": {},
   "outputs": [],
   "source": [
    "env = gym.make(\n",
    "    'aero_gym/wagner-v0', \n",
    "    render_mode=\"ansi\", \n",
    "    t_max=t_max, \n",
    "    delta_t=delta_t, \n",
    "    h_ddot_prescribed=h_ddot_ones,\n",
    "    reward_type=3,\n",
    "    h_dot_termination=False,\n",
    "    )"
   ]
  },
  {
   "cell_type": "code",
   "execution_count": null,
   "id": "d3c8f3e9",
   "metadata": {},
   "outputs": [],
   "source": [
    "obs, info, render_list = evaluate(env)"
   ]
  },
  {
   "cell_type": "code",
   "execution_count": null,
   "id": "1b325b4d",
   "metadata": {},
   "outputs": [],
   "source": [
    "%config InlineBackend.figure_format = 'svg'\n",
    "fig, axarr = plotfile(info)"
   ]
  },
  {
   "cell_type": "markdown",
   "id": "f61d87ce",
   "metadata": {},
   "source": [
    "## Gaussian"
   ]
  },
  {
   "cell_type": "code",
   "execution_count": null,
   "id": "bf702c7c",
   "metadata": {},
   "outputs": [],
   "source": [
    "def gaussian(x, a, b, c):\n",
    "    return a * math.exp(-(x - b) ** 2 / (2 * c ** 2))\n",
    "\n",
    "def dgaussian(x, a, b, c):\n",
    "    return a * -(x - b) / c ** 2 * math.exp(-(x - b) ** 2 / (2 * c ** 2))\n",
    "\n",
    "def ddgaussian(x, a, b, c):\n",
    "    return a * (x ** 2 + b ** 2 - 2 * b * x - c ** 2) / c ** 4 * math.exp(-(x - b) ** 2 / (2 * c ** 2))"
   ]
  },
  {
   "cell_type": "code",
   "execution_count": null,
   "id": "29d51c90",
   "metadata": {},
   "outputs": [],
   "source": [
    "a = -2/3*0.1\n",
    "b = 3.0\n",
    "c = 0.4\n",
    "h_ddot_dgaussian = [dgaussian(ti, a, b, c) for ti in t]\n",
    "\n",
    "a = 0.015\n",
    "b = 15.0\n",
    "c = 0.4\n",
    "alpha_ddot_ddgaussian = [ddgaussian(ti, a, b, c) for ti in t]"
   ]
  },
  {
   "cell_type": "code",
   "execution_count": null,
   "id": "9ebbe2f2",
   "metadata": {},
   "outputs": [],
   "source": [
    "env = gym.make(\n",
    "    'aero_gym/wagner-v0', \n",
    "    render_mode=\"ansi\", \n",
    "    t_max=t_max, \n",
    "    delta_t=delta_t, \n",
    "    h_ddot_prescribed=h_ddot_dgaussian,\n",
    "    reward_type=3,\n",
    "    observe_alpha_eff=True,\n",
    "    alpha_dot_termination=False,\n",
    "    alpha_termination=False,\n",
    "    h_dot_termination=False)"
   ]
  },
  {
   "cell_type": "code",
   "execution_count": null,
   "id": "50001b4e",
   "metadata": {},
   "outputs": [],
   "source": [
    "obs, info, render_list = evaluate(env, alpha_ddot_prescribed=alpha_ddot_ddgaussian)"
   ]
  },
  {
   "cell_type": "code",
   "execution_count": null,
   "id": "3b21084c",
   "metadata": {},
   "outputs": [],
   "source": [
    "%config InlineBackend.figure_format = 'svg'\n",
    "fig, axarr = plotfile(info)"
   ]
  }
 ],
 "metadata": {
  "kernelspec": {
   "display_name": "unsteady_aero_RL",
   "language": "python",
   "name": "unsteady_aero_rl"
  },
  "language_info": {
   "codemirror_mode": {
    "name": "ipython",
    "version": 3
   },
   "file_extension": ".py",
   "mimetype": "text/x-python",
   "name": "python",
   "nbconvert_exporter": "python",
   "pygments_lexer": "ipython3",
   "version": "3.9.6"
  }
 },
 "nbformat": 4,
 "nbformat_minor": 5
}
